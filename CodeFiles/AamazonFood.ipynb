{
 "cells": [
  {
   "cell_type": "markdown",
   "id": "e27519d1",
   "metadata": {},
   "source": [
    "# Analysing the Amazon Food Dataset and Classifying the Review as either Positive or Negative "
   ]
  },
  {
   "cell_type": "code",
   "execution_count": 1,
   "id": "a95be127",
   "metadata": {},
   "outputs": [],
   "source": [
    "import sqlite3\n",
    "import numpy as np\n",
    "import pandas as pd\n",
    "import matplotlib.pyplot as plt\n",
    "import seaborn as sns\n",
    "import nltk\n",
    "from sklearn.feature_extraction.text import TfidfTransformer\n",
    "from sklearn.feature_extraction.text import TfidfVectorizer\n",
    "from sklearn.feature_extraction.text import CountVectorizer\n",
    "from sklearn import metrics\n",
    "from sklearn.metrics import confusion_matrix\n",
    "from sklearn.metrics import roc_curve,auc\n",
    "from nltk.stem.porter import PorterStemmer"
   ]
  },
  {
   "cell_type": "code",
   "execution_count": 2,
   "id": "e914f031",
   "metadata": {},
   "outputs": [],
   "source": [
    "con=sqlite3.connect(\"database.sqlite\")"
   ]
  },
  {
   "cell_type": "code",
   "execution_count": 3,
   "id": "8409c134",
   "metadata": {},
   "outputs": [],
   "source": [
    "filtered_data=pd.read_sql_query(\"\"\"\n",
    "Select * \n",
    "from Reviews\n",
    "where Score!=3\n",
    "\"\"\",con)"
   ]
  },
  {
   "cell_type": "code",
   "execution_count": 4,
   "id": "a602fd19",
   "metadata": {},
   "outputs": [],
   "source": [
    "def partition(x):\n",
    "    if x<3:\n",
    "        return \"negative\"\n",
    "    return \"positive\""
   ]
  },
  {
   "cell_type": "code",
   "execution_count": 5,
   "id": "6ccb9eb5",
   "metadata": {},
   "outputs": [],
   "source": [
    "actualScore=filtered_data[\"Score\"]\n",
    "positiveNegative=actualScore.map(partition)\n",
    "filtered_data[\"Score\"]=positiveNegative"
   ]
  },
  {
   "cell_type": "code",
   "execution_count": 6,
   "id": "f7e56dc6",
   "metadata": {},
   "outputs": [
    {
     "data": {
      "text/html": [
       "<div>\n",
       "<style scoped>\n",
       "    .dataframe tbody tr th:only-of-type {\n",
       "        vertical-align: middle;\n",
       "    }\n",
       "\n",
       "    .dataframe tbody tr th {\n",
       "        vertical-align: top;\n",
       "    }\n",
       "\n",
       "    .dataframe thead th {\n",
       "        text-align: right;\n",
       "    }\n",
       "</style>\n",
       "<table border=\"1\" class=\"dataframe\">\n",
       "  <thead>\n",
       "    <tr style=\"text-align: right;\">\n",
       "      <th></th>\n",
       "      <th>Id</th>\n",
       "      <th>ProductId</th>\n",
       "      <th>UserId</th>\n",
       "      <th>ProfileName</th>\n",
       "      <th>HelpfulnessNumerator</th>\n",
       "      <th>HelpfulnessDenominator</th>\n",
       "      <th>Score</th>\n",
       "      <th>Time</th>\n",
       "      <th>Summary</th>\n",
       "      <th>Text</th>\n",
       "    </tr>\n",
       "  </thead>\n",
       "  <tbody>\n",
       "    <tr>\n",
       "      <th>0</th>\n",
       "      <td>1</td>\n",
       "      <td>B001E4KFG0</td>\n",
       "      <td>A3SGXH7AUHU8GW</td>\n",
       "      <td>delmartian</td>\n",
       "      <td>1</td>\n",
       "      <td>1</td>\n",
       "      <td>positive</td>\n",
       "      <td>1303862400</td>\n",
       "      <td>Good Quality Dog Food</td>\n",
       "      <td>I have bought several of the Vitality canned d...</td>\n",
       "    </tr>\n",
       "    <tr>\n",
       "      <th>1</th>\n",
       "      <td>2</td>\n",
       "      <td>B00813GRG4</td>\n",
       "      <td>A1D87F6ZCVE5NK</td>\n",
       "      <td>dll pa</td>\n",
       "      <td>0</td>\n",
       "      <td>0</td>\n",
       "      <td>negative</td>\n",
       "      <td>1346976000</td>\n",
       "      <td>Not as Advertised</td>\n",
       "      <td>Product arrived labeled as Jumbo Salted Peanut...</td>\n",
       "    </tr>\n",
       "    <tr>\n",
       "      <th>2</th>\n",
       "      <td>3</td>\n",
       "      <td>B000LQOCH0</td>\n",
       "      <td>ABXLMWJIXXAIN</td>\n",
       "      <td>Natalia Corres \"Natalia Corres\"</td>\n",
       "      <td>1</td>\n",
       "      <td>1</td>\n",
       "      <td>positive</td>\n",
       "      <td>1219017600</td>\n",
       "      <td>\"Delight\" says it all</td>\n",
       "      <td>This is a confection that has been around a fe...</td>\n",
       "    </tr>\n",
       "    <tr>\n",
       "      <th>3</th>\n",
       "      <td>4</td>\n",
       "      <td>B000UA0QIQ</td>\n",
       "      <td>A395BORC6FGVXV</td>\n",
       "      <td>Karl</td>\n",
       "      <td>3</td>\n",
       "      <td>3</td>\n",
       "      <td>negative</td>\n",
       "      <td>1307923200</td>\n",
       "      <td>Cough Medicine</td>\n",
       "      <td>If you are looking for the secret ingredient i...</td>\n",
       "    </tr>\n",
       "    <tr>\n",
       "      <th>4</th>\n",
       "      <td>5</td>\n",
       "      <td>B006K2ZZ7K</td>\n",
       "      <td>A1UQRSCLF8GW1T</td>\n",
       "      <td>Michael D. Bigham \"M. Wassir\"</td>\n",
       "      <td>0</td>\n",
       "      <td>0</td>\n",
       "      <td>positive</td>\n",
       "      <td>1350777600</td>\n",
       "      <td>Great taffy</td>\n",
       "      <td>Great taffy at a great price.  There was a wid...</td>\n",
       "    </tr>\n",
       "  </tbody>\n",
       "</table>\n",
       "</div>"
      ],
      "text/plain": [
       "   Id   ProductId          UserId                      ProfileName  \\\n",
       "0   1  B001E4KFG0  A3SGXH7AUHU8GW                       delmartian   \n",
       "1   2  B00813GRG4  A1D87F6ZCVE5NK                           dll pa   \n",
       "2   3  B000LQOCH0   ABXLMWJIXXAIN  Natalia Corres \"Natalia Corres\"   \n",
       "3   4  B000UA0QIQ  A395BORC6FGVXV                             Karl   \n",
       "4   5  B006K2ZZ7K  A1UQRSCLF8GW1T    Michael D. Bigham \"M. Wassir\"   \n",
       "\n",
       "   HelpfulnessNumerator  HelpfulnessDenominator     Score        Time  \\\n",
       "0                     1                       1  positive  1303862400   \n",
       "1                     0                       0  negative  1346976000   \n",
       "2                     1                       1  positive  1219017600   \n",
       "3                     3                       3  negative  1307923200   \n",
       "4                     0                       0  positive  1350777600   \n",
       "\n",
       "                 Summary                                               Text  \n",
       "0  Good Quality Dog Food  I have bought several of the Vitality canned d...  \n",
       "1      Not as Advertised  Product arrived labeled as Jumbo Salted Peanut...  \n",
       "2  \"Delight\" says it all  This is a confection that has been around a fe...  \n",
       "3         Cough Medicine  If you are looking for the secret ingredient i...  \n",
       "4            Great taffy  Great taffy at a great price.  There was a wid...  "
      ]
     },
     "execution_count": 6,
     "metadata": {},
     "output_type": "execute_result"
    }
   ],
   "source": [
    "filtered_data.head()"
   ]
  },
  {
   "cell_type": "code",
   "execution_count": 7,
   "id": "7f4bd144",
   "metadata": {},
   "outputs": [],
   "source": [
    "filtered_data=filtered_data.head(5000) #Taken only 5000 records for last processing "
   ]
  },
  {
   "cell_type": "code",
   "execution_count": 8,
   "id": "1cb59a98",
   "metadata": {},
   "outputs": [
    {
     "data": {
      "text/html": [
       "<div>\n",
       "<style scoped>\n",
       "    .dataframe tbody tr th:only-of-type {\n",
       "        vertical-align: middle;\n",
       "    }\n",
       "\n",
       "    .dataframe tbody tr th {\n",
       "        vertical-align: top;\n",
       "    }\n",
       "\n",
       "    .dataframe thead th {\n",
       "        text-align: right;\n",
       "    }\n",
       "</style>\n",
       "<table border=\"1\" class=\"dataframe\">\n",
       "  <thead>\n",
       "    <tr style=\"text-align: right;\">\n",
       "      <th></th>\n",
       "      <th>Id</th>\n",
       "      <th>ProductId</th>\n",
       "      <th>UserId</th>\n",
       "      <th>ProfileName</th>\n",
       "      <th>HelpfulnessNumerator</th>\n",
       "      <th>HelpfulnessDenominator</th>\n",
       "      <th>Score</th>\n",
       "      <th>Time</th>\n",
       "      <th>Summary</th>\n",
       "      <th>Text</th>\n",
       "    </tr>\n",
       "  </thead>\n",
       "  <tbody>\n",
       "    <tr>\n",
       "      <th>0</th>\n",
       "      <td>1</td>\n",
       "      <td>B001E4KFG0</td>\n",
       "      <td>A3SGXH7AUHU8GW</td>\n",
       "      <td>delmartian</td>\n",
       "      <td>1</td>\n",
       "      <td>1</td>\n",
       "      <td>positive</td>\n",
       "      <td>1303862400</td>\n",
       "      <td>Good Quality Dog Food</td>\n",
       "      <td>I have bought several of the Vitality canned d...</td>\n",
       "    </tr>\n",
       "    <tr>\n",
       "      <th>1</th>\n",
       "      <td>2</td>\n",
       "      <td>B00813GRG4</td>\n",
       "      <td>A1D87F6ZCVE5NK</td>\n",
       "      <td>dll pa</td>\n",
       "      <td>0</td>\n",
       "      <td>0</td>\n",
       "      <td>negative</td>\n",
       "      <td>1346976000</td>\n",
       "      <td>Not as Advertised</td>\n",
       "      <td>Product arrived labeled as Jumbo Salted Peanut...</td>\n",
       "    </tr>\n",
       "    <tr>\n",
       "      <th>2</th>\n",
       "      <td>3</td>\n",
       "      <td>B000LQOCH0</td>\n",
       "      <td>ABXLMWJIXXAIN</td>\n",
       "      <td>Natalia Corres \"Natalia Corres\"</td>\n",
       "      <td>1</td>\n",
       "      <td>1</td>\n",
       "      <td>positive</td>\n",
       "      <td>1219017600</td>\n",
       "      <td>\"Delight\" says it all</td>\n",
       "      <td>This is a confection that has been around a fe...</td>\n",
       "    </tr>\n",
       "    <tr>\n",
       "      <th>3</th>\n",
       "      <td>4</td>\n",
       "      <td>B000UA0QIQ</td>\n",
       "      <td>A395BORC6FGVXV</td>\n",
       "      <td>Karl</td>\n",
       "      <td>3</td>\n",
       "      <td>3</td>\n",
       "      <td>negative</td>\n",
       "      <td>1307923200</td>\n",
       "      <td>Cough Medicine</td>\n",
       "      <td>If you are looking for the secret ingredient i...</td>\n",
       "    </tr>\n",
       "    <tr>\n",
       "      <th>4</th>\n",
       "      <td>5</td>\n",
       "      <td>B006K2ZZ7K</td>\n",
       "      <td>A1UQRSCLF8GW1T</td>\n",
       "      <td>Michael D. Bigham \"M. Wassir\"</td>\n",
       "      <td>0</td>\n",
       "      <td>0</td>\n",
       "      <td>positive</td>\n",
       "      <td>1350777600</td>\n",
       "      <td>Great taffy</td>\n",
       "      <td>Great taffy at a great price.  There was a wid...</td>\n",
       "    </tr>\n",
       "  </tbody>\n",
       "</table>\n",
       "</div>"
      ],
      "text/plain": [
       "   Id   ProductId          UserId                      ProfileName  \\\n",
       "0   1  B001E4KFG0  A3SGXH7AUHU8GW                       delmartian   \n",
       "1   2  B00813GRG4  A1D87F6ZCVE5NK                           dll pa   \n",
       "2   3  B000LQOCH0   ABXLMWJIXXAIN  Natalia Corres \"Natalia Corres\"   \n",
       "3   4  B000UA0QIQ  A395BORC6FGVXV                             Karl   \n",
       "4   5  B006K2ZZ7K  A1UQRSCLF8GW1T    Michael D. Bigham \"M. Wassir\"   \n",
       "\n",
       "   HelpfulnessNumerator  HelpfulnessDenominator     Score        Time  \\\n",
       "0                     1                       1  positive  1303862400   \n",
       "1                     0                       0  negative  1346976000   \n",
       "2                     1                       1  positive  1219017600   \n",
       "3                     3                       3  negative  1307923200   \n",
       "4                     0                       0  positive  1350777600   \n",
       "\n",
       "                 Summary                                               Text  \n",
       "0  Good Quality Dog Food  I have bought several of the Vitality canned d...  \n",
       "1      Not as Advertised  Product arrived labeled as Jumbo Salted Peanut...  \n",
       "2  \"Delight\" says it all  This is a confection that has been around a fe...  \n",
       "3         Cough Medicine  If you are looking for the secret ingredient i...  \n",
       "4            Great taffy  Great taffy at a great price.  There was a wid...  "
      ]
     },
     "execution_count": 8,
     "metadata": {},
     "output_type": "execute_result"
    }
   ],
   "source": [
    "filtered_data.head()"
   ]
  },
  {
   "cell_type": "code",
   "execution_count": 9,
   "id": "78996e0e",
   "metadata": {},
   "outputs": [
    {
     "data": {
      "text/plain": [
       "(5000, 10)"
      ]
     },
     "execution_count": 9,
     "metadata": {},
     "output_type": "execute_result"
    }
   ],
   "source": [
    "filtered_data.shape"
   ]
  },
  {
   "cell_type": "code",
   "execution_count": 10,
   "id": "9c8c0681",
   "metadata": {},
   "outputs": [],
   "source": [
    "# Randomly checking duplicate data\n",
    "display=pd.read_sql_query(\"\"\"\n",
    "Select * \n",
    "from Reviews \n",
    "where Score !=3 and UserId=\"AR5J8UI46CURR\"\n",
    "Order by ProductId\"\"\",con)\n"
   ]
  },
  {
   "cell_type": "code",
   "execution_count": 11,
   "id": "da80637d",
   "metadata": {},
   "outputs": [
    {
     "data": {
      "text/html": [
       "<div>\n",
       "<style scoped>\n",
       "    .dataframe tbody tr th:only-of-type {\n",
       "        vertical-align: middle;\n",
       "    }\n",
       "\n",
       "    .dataframe tbody tr th {\n",
       "        vertical-align: top;\n",
       "    }\n",
       "\n",
       "    .dataframe thead th {\n",
       "        text-align: right;\n",
       "    }\n",
       "</style>\n",
       "<table border=\"1\" class=\"dataframe\">\n",
       "  <thead>\n",
       "    <tr style=\"text-align: right;\">\n",
       "      <th></th>\n",
       "      <th>Id</th>\n",
       "      <th>ProductId</th>\n",
       "      <th>UserId</th>\n",
       "      <th>ProfileName</th>\n",
       "      <th>HelpfulnessNumerator</th>\n",
       "      <th>HelpfulnessDenominator</th>\n",
       "      <th>Score</th>\n",
       "      <th>Time</th>\n",
       "      <th>Summary</th>\n",
       "      <th>Text</th>\n",
       "    </tr>\n",
       "  </thead>\n",
       "  <tbody>\n",
       "    <tr>\n",
       "      <th>0</th>\n",
       "      <td>78445</td>\n",
       "      <td>B000HDL1RQ</td>\n",
       "      <td>AR5J8UI46CURR</td>\n",
       "      <td>Geetha Krishnan</td>\n",
       "      <td>2</td>\n",
       "      <td>2</td>\n",
       "      <td>5</td>\n",
       "      <td>1199577600</td>\n",
       "      <td>LOACKER QUADRATINI VANILLA WAFERS</td>\n",
       "      <td>DELICIOUS WAFERS. I FIND THAT EUROPEAN WAFERS ...</td>\n",
       "    </tr>\n",
       "    <tr>\n",
       "      <th>1</th>\n",
       "      <td>138317</td>\n",
       "      <td>B000HDOPYC</td>\n",
       "      <td>AR5J8UI46CURR</td>\n",
       "      <td>Geetha Krishnan</td>\n",
       "      <td>2</td>\n",
       "      <td>2</td>\n",
       "      <td>5</td>\n",
       "      <td>1199577600</td>\n",
       "      <td>LOACKER QUADRATINI VANILLA WAFERS</td>\n",
       "      <td>DELICIOUS WAFERS. I FIND THAT EUROPEAN WAFERS ...</td>\n",
       "    </tr>\n",
       "    <tr>\n",
       "      <th>2</th>\n",
       "      <td>138277</td>\n",
       "      <td>B000HDOPYM</td>\n",
       "      <td>AR5J8UI46CURR</td>\n",
       "      <td>Geetha Krishnan</td>\n",
       "      <td>2</td>\n",
       "      <td>2</td>\n",
       "      <td>5</td>\n",
       "      <td>1199577600</td>\n",
       "      <td>LOACKER QUADRATINI VANILLA WAFERS</td>\n",
       "      <td>DELICIOUS WAFERS. I FIND THAT EUROPEAN WAFERS ...</td>\n",
       "    </tr>\n",
       "    <tr>\n",
       "      <th>3</th>\n",
       "      <td>73791</td>\n",
       "      <td>B000HDOPZG</td>\n",
       "      <td>AR5J8UI46CURR</td>\n",
       "      <td>Geetha Krishnan</td>\n",
       "      <td>2</td>\n",
       "      <td>2</td>\n",
       "      <td>5</td>\n",
       "      <td>1199577600</td>\n",
       "      <td>LOACKER QUADRATINI VANILLA WAFERS</td>\n",
       "      <td>DELICIOUS WAFERS. I FIND THAT EUROPEAN WAFERS ...</td>\n",
       "    </tr>\n",
       "    <tr>\n",
       "      <th>4</th>\n",
       "      <td>155049</td>\n",
       "      <td>B000PAQ75C</td>\n",
       "      <td>AR5J8UI46CURR</td>\n",
       "      <td>Geetha Krishnan</td>\n",
       "      <td>2</td>\n",
       "      <td>2</td>\n",
       "      <td>5</td>\n",
       "      <td>1199577600</td>\n",
       "      <td>LOACKER QUADRATINI VANILLA WAFERS</td>\n",
       "      <td>DELICIOUS WAFERS. I FIND THAT EUROPEAN WAFERS ...</td>\n",
       "    </tr>\n",
       "  </tbody>\n",
       "</table>\n",
       "</div>"
      ],
      "text/plain": [
       "       Id   ProductId         UserId      ProfileName  HelpfulnessNumerator  \\\n",
       "0   78445  B000HDL1RQ  AR5J8UI46CURR  Geetha Krishnan                     2   \n",
       "1  138317  B000HDOPYC  AR5J8UI46CURR  Geetha Krishnan                     2   \n",
       "2  138277  B000HDOPYM  AR5J8UI46CURR  Geetha Krishnan                     2   \n",
       "3   73791  B000HDOPZG  AR5J8UI46CURR  Geetha Krishnan                     2   \n",
       "4  155049  B000PAQ75C  AR5J8UI46CURR  Geetha Krishnan                     2   \n",
       "\n",
       "   HelpfulnessDenominator  Score        Time  \\\n",
       "0                       2      5  1199577600   \n",
       "1                       2      5  1199577600   \n",
       "2                       2      5  1199577600   \n",
       "3                       2      5  1199577600   \n",
       "4                       2      5  1199577600   \n",
       "\n",
       "                             Summary  \\\n",
       "0  LOACKER QUADRATINI VANILLA WAFERS   \n",
       "1  LOACKER QUADRATINI VANILLA WAFERS   \n",
       "2  LOACKER QUADRATINI VANILLA WAFERS   \n",
       "3  LOACKER QUADRATINI VANILLA WAFERS   \n",
       "4  LOACKER QUADRATINI VANILLA WAFERS   \n",
       "\n",
       "                                                Text  \n",
       "0  DELICIOUS WAFERS. I FIND THAT EUROPEAN WAFERS ...  \n",
       "1  DELICIOUS WAFERS. I FIND THAT EUROPEAN WAFERS ...  \n",
       "2  DELICIOUS WAFERS. I FIND THAT EUROPEAN WAFERS ...  \n",
       "3  DELICIOUS WAFERS. I FIND THAT EUROPEAN WAFERS ...  \n",
       "4  DELICIOUS WAFERS. I FIND THAT EUROPEAN WAFERS ...  "
      ]
     },
     "execution_count": 11,
     "metadata": {},
     "output_type": "execute_result"
    }
   ],
   "source": [
    "display"
   ]
  },
  {
   "cell_type": "code",
   "execution_count": 12,
   "id": "ab8eda24",
   "metadata": {},
   "outputs": [],
   "source": [
    "sorted_data=filtered_data.sort_values(\"ProductId\",axis=0,ascending=True)\n"
   ]
  },
  {
   "cell_type": "code",
   "execution_count": 13,
   "id": "ae581f74",
   "metadata": {},
   "outputs": [],
   "source": [
    "final=sorted_data.drop_duplicates(subset={\"UserId\",\"ProfileName\",\"Time\",\"Text\"},keep=\"first\",inplace=False)"
   ]
  },
  {
   "cell_type": "code",
   "execution_count": 14,
   "id": "102dfce3",
   "metadata": {},
   "outputs": [
    {
     "data": {
      "text/plain": [
       "(4986, 10)"
      ]
     },
     "execution_count": 14,
     "metadata": {},
     "output_type": "execute_result"
    }
   ],
   "source": [
    "final.shape"
   ]
  },
  {
   "cell_type": "code",
   "execution_count": 15,
   "id": "5f04b28b",
   "metadata": {},
   "outputs": [
    {
     "data": {
      "text/plain": [
       "99.72"
      ]
     },
     "execution_count": 15,
     "metadata": {},
     "output_type": "execute_result"
    }
   ],
   "source": [
    "# To know how much percent of data is retained after eliminating duplicates\n",
    "(final[\"Id\"].size*1.0/filtered_data[\"Id\"].size*1.0)*100"
   ]
  },
  {
   "cell_type": "code",
   "execution_count": 16,
   "id": "078b1953",
   "metadata": {},
   "outputs": [],
   "source": [
    "final=final[final.HelpfulnessNumerator<=final.HelpfulnessDenominator]"
   ]
  },
  {
   "cell_type": "code",
   "execution_count": 17,
   "id": "d1aaa35a",
   "metadata": {},
   "outputs": [
    {
     "data": {
      "text/plain": [
       "99.72"
      ]
     },
     "execution_count": 17,
     "metadata": {},
     "output_type": "execute_result"
    }
   ],
   "source": [
    "(final[\"Id\"].size*1.0/filtered_data[\"Id\"].size*1.0)*100"
   ]
  },
  {
   "cell_type": "code",
   "execution_count": 18,
   "id": "ac398ccb",
   "metadata": {},
   "outputs": [
    {
     "data": {
      "text/plain": [
       "(4986, 10)"
      ]
     },
     "execution_count": 18,
     "metadata": {},
     "output_type": "execute_result"
    }
   ],
   "source": [
    "final.shape"
   ]
  },
  {
   "cell_type": "code",
   "execution_count": 19,
   "id": "eac8cd68",
   "metadata": {},
   "outputs": [
    {
     "data": {
      "text/plain": [
       "positive    4178\n",
       "negative     808\n",
       "Name: Score, dtype: int64"
      ]
     },
     "execution_count": 19,
     "metadata": {},
     "output_type": "execute_result"
    }
   ],
   "source": [
    "# To know number positive and negative class labels\n",
    "final[\"Score\"].value_counts()"
   ]
  },
  {
   "cell_type": "code",
   "execution_count": 20,
   "id": "b4c5283d",
   "metadata": {},
   "outputs": [],
   "source": [
    "#Bag Of Words model\n",
    "count_vect=CountVectorizer()\n",
    "final_counts=count_vect.fit_transform(final[\"Text\"].values)"
   ]
  },
  {
   "cell_type": "code",
   "execution_count": 21,
   "id": "58f021e1",
   "metadata": {},
   "outputs": [
    {
     "data": {
      "text/plain": [
       "scipy.sparse.csr.csr_matrix"
      ]
     },
     "execution_count": 21,
     "metadata": {},
     "output_type": "execute_result"
    }
   ],
   "source": [
    "type(final_counts)"
   ]
  },
  {
   "cell_type": "code",
   "execution_count": 22,
   "id": "505c06fd",
   "metadata": {},
   "outputs": [
    {
     "data": {
      "text/plain": [
       "(4986, 13510)"
      ]
     },
     "execution_count": 22,
     "metadata": {},
     "output_type": "execute_result"
    }
   ],
   "source": [
    "final_counts.get_shape()"
   ]
  },
  {
   "cell_type": "code",
   "execution_count": 23,
   "id": "ebeadea6",
   "metadata": {},
   "outputs": [
    {
     "name": "stdout",
     "output_type": "stream",
     "text": [
      "0\n",
      "Why is this $[...] when the same product is available for $[...] here?<br />http://www.amazon.com/VICTOR-FLY-MAGNET-BAIT-REFILL/dp/B00004RBDY<br /><br />The Victor M380 and M502 traps are unreal, of course -- total fly genocide. Pretty stinky, but only right nearby.\n"
     ]
    }
   ],
   "source": [
    "import re\n",
    "i=0\n",
    "for sentence in final[\"Text\"].values:\n",
    "    if(len(re.findall(\"<.*?>\",sentence))):\n",
    "            print(i)\n",
    "            print(sentence)\n",
    "            break\n",
    "    i+=1"
   ]
  },
  {
   "cell_type": "code",
   "execution_count": 24,
   "id": "04c07018",
   "metadata": {},
   "outputs": [
    {
     "name": "stdout",
     "output_type": "stream",
     "text": [
      "{'t', 'both', 'being', 'over', 'only', 'my', 'they', 'i', 'themselves', \"weren't\", 'have', 'isn', \"you'd\", 'ourselves', 'all', 'not', 'll', 'about', 'any', 'whom', \"mustn't\", 'through', \"she's\", 'with', 'against', 'should', 'when', 'did', 'once', \"needn't\", \"mightn't\", 'at', 'so', 'was', 'needn', 'than', 'them', 's', 'into', 'for', 'which', \"won't\", 'couldn', 'that', 'above', 'from', 'few', 'won', 'and', 'a', 'yourself', \"doesn't\", 'his', \"hasn't\", 'how', 'who', 'been', 'do', 'ma', \"shan't\", 'below', 'm', 'weren', 'most', 'haven', 'himself', \"aren't\", 'had', 'while', 'he', 'our', 'of', \"don't\", 'him', 'an', 'again', 'each', 'we', \"should've\", 'you', 'off', 'same', \"it's\", 'hers', 'their', 'has', 'she', 'doesn', 'wouldn', 'because', \"didn't\", 'hasn', 'now', 'o', 'am', 'be', 'out', 'up', 'theirs', 'why', 've', 'before', 'very', 'on', 'can', \"wasn't\", 'nor', 'to', 'hadn', 'your', 'then', 'where', \"you're\", 'its', \"isn't\", 'doing', 'didn', 'is', 'me', 'don', 'until', 'yourselves', 'during', 'ain', 'in', \"hadn't\", 'no', 'here', 'these', 'does', 'itself', 'mightn', 'but', 'further', 'by', 'ours', 'her', 'aren', 'such', 'will', \"haven't\", 'are', 'y', 'there', 'more', 'those', 'mustn', \"shouldn't\", 'myself', 'if', 'having', \"you'll\", 'the', 'too', 'or', 'shan', 'wasn', 'under', \"couldn't\", 'were', 'other', 'just', 'herself', 're', \"that'll\", 'between', 'shouldn', 'some', \"you've\", 'as', 'd', 'what', \"wouldn't\", 'down', 'yours', 'own', 'this', 'it', 'after'}\n",
      "*****\n",
      "tasti\n"
     ]
    }
   ],
   "source": [
    "import re\n",
    "from nltk.corpus import stopwords\n",
    "from nltk.stem import PorterStemmer\n",
    "from nltk.stem.wordnet import WordNetLemmatizer\n",
    "stop=set(stopwords.words(\"english\"))\n",
    "sno=nltk.stem.SnowballStemmer(\"english\")\n",
    "def cleanhtml(sentence):\n",
    "    cleanr=re.compile(\"<.*?>\")\n",
    "    cleantext=re.sub(cleanr,\" \",sentence)\n",
    "    return cleantext\n",
    "def cleanpunc(sentence):\n",
    "    cleaned=re.sub(r'[?|!|\\|\"|#]',r\" \",sentence)\n",
    "    cleaned=re.sub(r'[.|,|)|(|\\|/]',r\" \",cleaned)\n",
    "    return cleaned\n",
    "print(stop)\n",
    "print(\"*****\")\n",
    "print(sno.stem(\"tasty\"))"
   ]
  },
  {
   "cell_type": "code",
   "execution_count": 25,
   "id": "4a19adfd",
   "metadata": {},
   "outputs": [],
   "source": [
    "#Text cleaning removing stop words and using Regular Expressions\n",
    "i=0\n",
    "strl=\" \"\n",
    "final_string=[]\n",
    "all_positive_words=[]\n",
    "all_negative_words=[]\n",
    "s=''\n",
    "for sentence in final[\"Text\"].values:\n",
    "    filtered_sentence=[]\n",
    "    sentence=cleanhtml(sentence)\n",
    "    for word in sentence.split():\n",
    "        for cleaned_words in cleanpunc(word).split():\n",
    "            if((cleaned_words.isalpha()) & (len(cleaned_words)>2)):\n",
    "                if(cleaned_words.lower() not in stop):\n",
    "                    s=(sno.stem(cleaned_words.lower())).encode(\"utf8\")\n",
    "                    filtered_sentence.append(s)\n",
    "                    if(final[\"Score\"].values)[i]==\"positive\" :\n",
    "                        all_positive_words.append(s)\n",
    "                    if(final[\"Score\"].values)[i]==\"negative\":\n",
    "                        all_negative_words.append(s)\n",
    "                else:\n",
    "                    continue\n",
    "            else:\n",
    "                continue\n",
    "    strl=b\" \".join(filtered_sentence)\n",
    "    final_string.append(strl)\n",
    "    i+=1"
   ]
  },
  {
   "cell_type": "code",
   "execution_count": 26,
   "id": "f1ab8415",
   "metadata": {},
   "outputs": [],
   "source": [
    "#Adding a new column\n",
    "final[\"CleanedText\"]=final_string"
   ]
  },
  {
   "cell_type": "code",
   "execution_count": 27,
   "id": "f416bae0",
   "metadata": {},
   "outputs": [
    {
     "data": {
      "text/html": [
       "<div>\n",
       "<style scoped>\n",
       "    .dataframe tbody tr th:only-of-type {\n",
       "        vertical-align: middle;\n",
       "    }\n",
       "\n",
       "    .dataframe tbody tr th {\n",
       "        vertical-align: top;\n",
       "    }\n",
       "\n",
       "    .dataframe thead th {\n",
       "        text-align: right;\n",
       "    }\n",
       "</style>\n",
       "<table border=\"1\" class=\"dataframe\">\n",
       "  <thead>\n",
       "    <tr style=\"text-align: right;\">\n",
       "      <th></th>\n",
       "      <th>Id</th>\n",
       "      <th>ProductId</th>\n",
       "      <th>UserId</th>\n",
       "      <th>ProfileName</th>\n",
       "      <th>HelpfulnessNumerator</th>\n",
       "      <th>HelpfulnessDenominator</th>\n",
       "      <th>Score</th>\n",
       "      <th>Time</th>\n",
       "      <th>Summary</th>\n",
       "      <th>Text</th>\n",
       "      <th>CleanedText</th>\n",
       "    </tr>\n",
       "  </thead>\n",
       "  <tbody>\n",
       "    <tr>\n",
       "      <th>2546</th>\n",
       "      <td>2774</td>\n",
       "      <td>B00002NCJC</td>\n",
       "      <td>A196AJHU9EASJN</td>\n",
       "      <td>Alex Chaffee</td>\n",
       "      <td>0</td>\n",
       "      <td>0</td>\n",
       "      <td>positive</td>\n",
       "      <td>1282953600</td>\n",
       "      <td>thirty bucks?</td>\n",
       "      <td>Why is this $[...] when the same product is av...</td>\n",
       "      <td>b'product avail www amazon com victor trap unr...</td>\n",
       "    </tr>\n",
       "    <tr>\n",
       "      <th>2547</th>\n",
       "      <td>2775</td>\n",
       "      <td>B00002NCJC</td>\n",
       "      <td>A13RRPGE79XFFH</td>\n",
       "      <td>reader48</td>\n",
       "      <td>0</td>\n",
       "      <td>0</td>\n",
       "      <td>positive</td>\n",
       "      <td>1281052800</td>\n",
       "      <td>Flies Begone</td>\n",
       "      <td>We have used the Victor fly bait for 3 seasons...</td>\n",
       "      <td>b'use victor fli bait season beat great product'</td>\n",
       "    </tr>\n",
       "    <tr>\n",
       "      <th>1145</th>\n",
       "      <td>1244</td>\n",
       "      <td>B00002Z754</td>\n",
       "      <td>A3B8RCEI0FXFI6</td>\n",
       "      <td>B G Chase</td>\n",
       "      <td>10</td>\n",
       "      <td>10</td>\n",
       "      <td>positive</td>\n",
       "      <td>962236800</td>\n",
       "      <td>WOW Make your own 'slickers' !</td>\n",
       "      <td>I just received my shipment and could hardly w...</td>\n",
       "      <td>b'receiv shipment could hard wait tri product ...</td>\n",
       "    </tr>\n",
       "    <tr>\n",
       "      <th>1146</th>\n",
       "      <td>1245</td>\n",
       "      <td>B00002Z754</td>\n",
       "      <td>A29Z5PI9BW2PU3</td>\n",
       "      <td>Robbie</td>\n",
       "      <td>7</td>\n",
       "      <td>7</td>\n",
       "      <td>positive</td>\n",
       "      <td>961718400</td>\n",
       "      <td>Great Product</td>\n",
       "      <td>This was a really good idea and the final prod...</td>\n",
       "      <td>b'realli good idea final product outstand use ...</td>\n",
       "    </tr>\n",
       "    <tr>\n",
       "      <th>2942</th>\n",
       "      <td>3204</td>\n",
       "      <td>B000084DVR</td>\n",
       "      <td>A1UGDJP1ZJWVPF</td>\n",
       "      <td>T. Moore \"thoughtful reader\"</td>\n",
       "      <td>1</td>\n",
       "      <td>1</td>\n",
       "      <td>positive</td>\n",
       "      <td>1177977600</td>\n",
       "      <td>Good stuff!</td>\n",
       "      <td>I'm glad my 45lb cocker/standard poodle puppy ...</td>\n",
       "      <td>b'glad cocker standard poodl puppi love stuff ...</td>\n",
       "    </tr>\n",
       "  </tbody>\n",
       "</table>\n",
       "</div>"
      ],
      "text/plain": [
       "        Id   ProductId          UserId                   ProfileName  \\\n",
       "2546  2774  B00002NCJC  A196AJHU9EASJN                  Alex Chaffee   \n",
       "2547  2775  B00002NCJC  A13RRPGE79XFFH                      reader48   \n",
       "1145  1244  B00002Z754  A3B8RCEI0FXFI6                     B G Chase   \n",
       "1146  1245  B00002Z754  A29Z5PI9BW2PU3                        Robbie   \n",
       "2942  3204  B000084DVR  A1UGDJP1ZJWVPF  T. Moore \"thoughtful reader\"   \n",
       "\n",
       "      HelpfulnessNumerator  HelpfulnessDenominator     Score        Time  \\\n",
       "2546                     0                       0  positive  1282953600   \n",
       "2547                     0                       0  positive  1281052800   \n",
       "1145                    10                      10  positive   962236800   \n",
       "1146                     7                       7  positive   961718400   \n",
       "2942                     1                       1  positive  1177977600   \n",
       "\n",
       "                             Summary  \\\n",
       "2546                   thirty bucks?   \n",
       "2547                    Flies Begone   \n",
       "1145  WOW Make your own 'slickers' !   \n",
       "1146                   Great Product   \n",
       "2942                     Good stuff!   \n",
       "\n",
       "                                                   Text  \\\n",
       "2546  Why is this $[...] when the same product is av...   \n",
       "2547  We have used the Victor fly bait for 3 seasons...   \n",
       "1145  I just received my shipment and could hardly w...   \n",
       "1146  This was a really good idea and the final prod...   \n",
       "2942  I'm glad my 45lb cocker/standard poodle puppy ...   \n",
       "\n",
       "                                            CleanedText  \n",
       "2546  b'product avail www amazon com victor trap unr...  \n",
       "2547   b'use victor fli bait season beat great product'  \n",
       "1145  b'receiv shipment could hard wait tri product ...  \n",
       "1146  b'realli good idea final product outstand use ...  \n",
       "2942  b'glad cocker standard poodl puppi love stuff ...  "
      ]
     },
     "execution_count": 27,
     "metadata": {},
     "output_type": "execute_result"
    }
   ],
   "source": [
    "final.head()"
   ]
  },
  {
   "cell_type": "code",
   "execution_count": 28,
   "id": "afcf12f3",
   "metadata": {},
   "outputs": [],
   "source": [
    "#Creating a new database file with created column\n",
    "conn=sqlite3.connect(\"new229.sqlite\")\n",
    "c=conn.cursor()\n",
    "conn.text_factory=str\n",
    "final.to_sql(\"Reviews\",conn)"
   ]
  },
  {
   "cell_type": "code",
   "execution_count": 29,
   "id": "cf28d65a",
   "metadata": {},
   "outputs": [
    {
     "name": "stdout",
     "output_type": "stream",
     "text": [
      "Most Common Positive Words:\n",
      " [(b'like', 1812), (b'tast', 1635), (b'good', 1571), (b'flavor', 1547), (b'love', 1469), (b'great', 1442), (b'use', 1269), (b'product', 1202), (b'one', 1187), (b'tri', 1161), (b'coffe', 1019), (b'food', 1016), (b'chip', 995), (b'make', 982), (b'get', 830), (b'tea', 800), (b'bag', 760), (b'buy', 728), (b'best', 708), (b'eat', 708)]\n",
      "\n",
      "Most Common Negative Words:\n",
      " [(b'like', 444), (b'tast', 431), (b'product', 399), (b'tri', 282), (b'one', 281), (b'flavor', 271), (b'would', 247), (b'food', 241), (b'use', 231), (b'good', 207), (b'buy', 187), (b'order', 185), (b'tea', 181), (b'chip', 180), (b'bag', 179), (b'get', 179), (b'even', 169), (b'make', 162), (b'box', 161), (b'mix', 155)]\n"
     ]
    }
   ],
   "source": [
    "freq_dist_positive=nltk.FreqDist(all_positive_words)\n",
    "freq_dist_negative=nltk.FreqDist(all_negative_words)\n",
    "print(\"Most Common Positive Words:\\n\",freq_dist_positive.most_common(20))\n",
    "\n",
    "print(\"\\nMost Common Negative Words:\\n\",freq_dist_negative.most_common(20))\n"
   ]
  },
  {
   "cell_type": "code",
   "execution_count": 30,
   "id": "86e918cd",
   "metadata": {},
   "outputs": [],
   "source": [
    "#Bi-gram Model\n",
    "count_vect=CountVectorizer(ngram_range=(1,2))\n",
    "final_bigram_counts=count_vect.fit_transform(final[\"Text\"].values)"
   ]
  },
  {
   "cell_type": "code",
   "execution_count": 31,
   "id": "3af25034",
   "metadata": {},
   "outputs": [
    {
     "data": {
      "text/plain": [
       "(4986, 148211)"
      ]
     },
     "execution_count": 31,
     "metadata": {},
     "output_type": "execute_result"
    }
   ],
   "source": [
    "final_bigram_counts.shape"
   ]
  },
  {
   "cell_type": "code",
   "execution_count": 32,
   "id": "c4c0874f",
   "metadata": {},
   "outputs": [],
   "source": [
    "# TF-IDF Process with Bi-grams\n",
    "tf_idf_vect=TfidfVectorizer(ngram_range=(1,2))\n",
    "final_tf_idf=tf_idf_vect.fit_transform(final[\"Text\"].values)\n"
   ]
  },
  {
   "cell_type": "code",
   "execution_count": 33,
   "id": "4f0eb0dd",
   "metadata": {},
   "outputs": [
    {
     "data": {
      "text/plain": [
       "(4986, 148211)"
      ]
     },
     "execution_count": 33,
     "metadata": {},
     "output_type": "execute_result"
    }
   ],
   "source": [
    "final_tf_idf.shape"
   ]
  },
  {
   "cell_type": "code",
   "execution_count": 34,
   "id": "2643e2b6",
   "metadata": {},
   "outputs": [
    {
     "data": {
      "text/plain": [
       "148211"
      ]
     },
     "execution_count": 34,
     "metadata": {},
     "output_type": "execute_result"
    }
   ],
   "source": [
    "features=tf_idf_vect.get_feature_names()\n",
    "len(features)"
   ]
  },
  {
   "cell_type": "code",
   "execution_count": 35,
   "id": "723b8c0e",
   "metadata": {},
   "outputs": [
    {
     "data": {
      "text/plain": [
       "['150mg',\n",
       " '150mg of',\n",
       " '15g',\n",
       " '15g br',\n",
       " '15g carbs',\n",
       " '15lb',\n",
       " '15lb bichon',\n",
       " '15lbs',\n",
       " '15lbs and',\n",
       " '15mg']"
      ]
     },
     "execution_count": 35,
     "metadata": {},
     "output_type": "execute_result"
    }
   ],
   "source": [
    "features[500:510]"
   ]
  },
  {
   "cell_type": "code",
   "execution_count": 36,
   "id": "5fd7a4af",
   "metadata": {},
   "outputs": [
    {
     "name": "stdout",
     "output_type": "stream",
     "text": [
      "[0. 0. 0. ... 0. 0. 0.]\n"
     ]
    }
   ],
   "source": [
    "print(final_tf_idf[3,:].toarray()[0]) # Converting a row in sparse matrix to an Array"
   ]
  },
  {
   "cell_type": "code",
   "execution_count": 37,
   "id": "0d545c89",
   "metadata": {},
   "outputs": [],
   "source": [
    "def top_tfidf_feats(row,features,top_n=25):\n",
    "    topn_ids=np.argsort(row)[::-1][:top_n]\n",
    "    top_feats=[(features[i],row[i]) for i in topn_ids]\n",
    "    df=pd.DataFrame(top_feats)\n",
    "    df.columns=[\"feature\",\"tfidf\"]\n",
    "    return df\n",
    "# This function gets top tfidf values in row and return them with their corresponding ranks"
   ]
  },
  {
   "cell_type": "code",
   "execution_count": 38,
   "id": "101b0d93",
   "metadata": {},
   "outputs": [
    {
     "data": {
      "text/html": [
       "<div>\n",
       "<style scoped>\n",
       "    .dataframe tbody tr th:only-of-type {\n",
       "        vertical-align: middle;\n",
       "    }\n",
       "\n",
       "    .dataframe tbody tr th {\n",
       "        vertical-align: top;\n",
       "    }\n",
       "\n",
       "    .dataframe thead th {\n",
       "        text-align: right;\n",
       "    }\n",
       "</style>\n",
       "<table border=\"1\" class=\"dataframe\">\n",
       "  <thead>\n",
       "    <tr style=\"text-align: right;\">\n",
       "      <th></th>\n",
       "      <th>feature</th>\n",
       "      <th>tfidf</th>\n",
       "    </tr>\n",
       "  </thead>\n",
       "  <tbody>\n",
       "    <tr>\n",
       "      <th>0</th>\n",
       "      <td>fly bait</td>\n",
       "      <td>0.274736</td>\n",
       "    </tr>\n",
       "    <tr>\n",
       "      <th>1</th>\n",
       "      <td>seasons can</td>\n",
       "      <td>0.274736</td>\n",
       "    </tr>\n",
       "    <tr>\n",
       "      <th>2</th>\n",
       "      <td>for seasons</td>\n",
       "      <td>0.274736</td>\n",
       "    </tr>\n",
       "    <tr>\n",
       "      <th>3</th>\n",
       "      <td>victor</td>\n",
       "      <td>0.262108</td>\n",
       "    </tr>\n",
       "    <tr>\n",
       "      <th>4</th>\n",
       "      <td>bait for</td>\n",
       "      <td>0.262108</td>\n",
       "    </tr>\n",
       "    <tr>\n",
       "      <th>5</th>\n",
       "      <td>the victor</td>\n",
       "      <td>0.262108</td>\n",
       "    </tr>\n",
       "    <tr>\n",
       "      <th>6</th>\n",
       "      <td>victor fly</td>\n",
       "      <td>0.262108</td>\n",
       "    </tr>\n",
       "    <tr>\n",
       "      <th>7</th>\n",
       "      <td>fly</td>\n",
       "      <td>0.246199</td>\n",
       "    </tr>\n",
       "    <tr>\n",
       "      <th>8</th>\n",
       "      <td>seasons</td>\n",
       "      <td>0.246199</td>\n",
       "    </tr>\n",
       "    <tr>\n",
       "      <th>9</th>\n",
       "      <td>bait</td>\n",
       "      <td>0.240521</td>\n",
       "    </tr>\n",
       "    <tr>\n",
       "      <th>10</th>\n",
       "      <td>beat it</td>\n",
       "      <td>0.235720</td>\n",
       "    </tr>\n",
       "    <tr>\n",
       "      <th>11</th>\n",
       "      <td>can beat</td>\n",
       "      <td>0.201504</td>\n",
       "    </tr>\n",
       "    <tr>\n",
       "      <th>12</th>\n",
       "      <td>used the</td>\n",
       "      <td>0.192545</td>\n",
       "    </tr>\n",
       "    <tr>\n",
       "      <th>13</th>\n",
       "      <td>have used</td>\n",
       "      <td>0.186498</td>\n",
       "    </tr>\n",
       "    <tr>\n",
       "      <th>14</th>\n",
       "      <td>beat</td>\n",
       "      <td>0.173265</td>\n",
       "    </tr>\n",
       "    <tr>\n",
       "      <th>15</th>\n",
       "      <td>it great</td>\n",
       "      <td>0.169864</td>\n",
       "    </tr>\n",
       "    <tr>\n",
       "      <th>16</th>\n",
       "      <td>great product</td>\n",
       "      <td>0.154497</td>\n",
       "    </tr>\n",
       "    <tr>\n",
       "      <th>17</th>\n",
       "      <td>we have</td>\n",
       "      <td>0.142644</td>\n",
       "    </tr>\n",
       "    <tr>\n",
       "      <th>18</th>\n",
       "      <td>used</td>\n",
       "      <td>0.109802</td>\n",
       "    </tr>\n",
       "    <tr>\n",
       "      <th>19</th>\n",
       "      <td>we</td>\n",
       "      <td>0.092118</td>\n",
       "    </tr>\n",
       "    <tr>\n",
       "      <th>20</th>\n",
       "      <td>product</td>\n",
       "      <td>0.080693</td>\n",
       "    </tr>\n",
       "    <tr>\n",
       "      <th>21</th>\n",
       "      <td>can</td>\n",
       "      <td>0.077881</td>\n",
       "    </tr>\n",
       "    <tr>\n",
       "      <th>22</th>\n",
       "      <td>great</td>\n",
       "      <td>0.074089</td>\n",
       "    </tr>\n",
       "    <tr>\n",
       "      <th>23</th>\n",
       "      <td>have</td>\n",
       "      <td>0.061395</td>\n",
       "    </tr>\n",
       "    <tr>\n",
       "      <th>24</th>\n",
       "      <td>for</td>\n",
       "      <td>0.051863</td>\n",
       "    </tr>\n",
       "  </tbody>\n",
       "</table>\n",
       "</div>"
      ],
      "text/plain": [
       "          feature     tfidf\n",
       "0        fly bait  0.274736\n",
       "1     seasons can  0.274736\n",
       "2     for seasons  0.274736\n",
       "3          victor  0.262108\n",
       "4        bait for  0.262108\n",
       "5      the victor  0.262108\n",
       "6      victor fly  0.262108\n",
       "7             fly  0.246199\n",
       "8         seasons  0.246199\n",
       "9            bait  0.240521\n",
       "10        beat it  0.235720\n",
       "11       can beat  0.201504\n",
       "12       used the  0.192545\n",
       "13      have used  0.186498\n",
       "14           beat  0.173265\n",
       "15       it great  0.169864\n",
       "16  great product  0.154497\n",
       "17        we have  0.142644\n",
       "18           used  0.109802\n",
       "19             we  0.092118\n",
       "20        product  0.080693\n",
       "21            can  0.077881\n",
       "22          great  0.074089\n",
       "23           have  0.061395\n",
       "24            for  0.051863"
      ]
     },
     "execution_count": 38,
     "metadata": {},
     "output_type": "execute_result"
    }
   ],
   "source": [
    "top_tfidf=top_tfidf_feats(final_tf_idf[1,:].toarray()[0],features,25)\n",
    "top_tfidf"
   ]
  },
  {
   "cell_type": "code",
   "execution_count": 39,
   "id": "a68d07fa",
   "metadata": {},
   "outputs": [],
   "source": [
    "from gensim.models import Word2Vec\n",
    "from gensim.models import KeyedVectors\n",
    "import pickle"
   ]
  },
  {
   "cell_type": "code",
   "execution_count": 40,
   "id": "35e90c74",
   "metadata": {},
   "outputs": [],
   "source": [
    "# Using Word2Vec\n",
    "# Training your own Word2Vec model using your own Text Corpus\n",
    "import gensim\n",
    "i=0\n",
    "list_of_sent=[]\n",
    "for sent in final[\"Text\"].values:\n",
    "    filtered_sentence=[]\n",
    "    sent=cleanhtml(sent)\n",
    "    for w in sent.split():\n",
    "        for cleaned_words in cleanpunc(w).split():\n",
    "            if(cleaned_words.isalpha()):\n",
    "                filtered_sentence.append(cleaned_words.lower())\n",
    "            else:\n",
    "                continue\n",
    "    list_of_sent.append(filtered_sentence)"
   ]
  },
  {
   "cell_type": "code",
   "execution_count": 41,
   "id": "23340b37",
   "metadata": {},
   "outputs": [
    {
     "name": "stdout",
     "output_type": "stream",
     "text": [
      "Why is this $[...] when the same product is available for $[...] here?<br />http://www.amazon.com/VICTOR-FLY-MAGNET-BAIT-REFILL/dp/B00004RBDY<br /><br />The Victor M380 and M502 traps are unreal, of course -- total fly genocide. Pretty stinky, but only right nearby.\n",
      "********\n",
      "['why', 'is', 'this', 'when', 'the', 'same', 'product', 'is', 'available', 'for', 'here', 'www', 'amazon', 'com', 'dp', 'the', 'victor', 'and', 'traps', 'are', 'unreal', 'of', 'course', 'total', 'fly', 'genocide', 'pretty', 'stinky', 'but', 'only', 'right', 'nearby']\n"
     ]
    }
   ],
   "source": [
    "print(final[\"Text\"].values[0])\n",
    "print(\"********\")\n",
    "print(list_of_sent[0])"
   ]
  },
  {
   "cell_type": "code",
   "execution_count": 42,
   "id": "a7c5973d",
   "metadata": {},
   "outputs": [],
   "source": [
    "w2v_model=gensim.models.Word2Vec(list_of_sent,min_count=5,vector_size=50)"
   ]
  },
  {
   "cell_type": "code",
   "execution_count": 43,
   "id": "73c1cb35",
   "metadata": {},
   "outputs": [
    {
     "name": "stdout",
     "output_type": "stream",
     "text": [
      "Word2Vec(vocab=3874, vector_size=50, alpha=0.025)\n"
     ]
    }
   ],
   "source": [
    "print(w2v_model)"
   ]
  },
  {
   "cell_type": "code",
   "execution_count": 44,
   "id": "889018dd",
   "metadata": {},
   "outputs": [
    {
     "data": {
      "text/plain": [
       "[('delicious', 0.9566338658332825),\n",
       " ('flavorful', 0.9189849495887756),\n",
       " ('light', 0.9026752710342407),\n",
       " ('crunchy', 0.8865042924880981),\n",
       " ('crisp', 0.8786147832870483),\n",
       " ('very', 0.8727086186408997),\n",
       " ('pretty', 0.8695505857467651),\n",
       " ('fluffy', 0.8675851821899414),\n",
       " ('soft', 0.8597180247306824),\n",
       " ('fresh', 0.8578742146492004)]"
      ]
     },
     "execution_count": 44,
     "metadata": {},
     "output_type": "execute_result"
    }
   ],
   "source": [
    "w2v_model.wv.most_similar(\"tasty\")"
   ]
  },
  {
   "cell_type": "code",
   "execution_count": 45,
   "id": "ed7fe6b9",
   "metadata": {
    "scrolled": true
   },
   "outputs": [
    {
     "data": {
      "text/plain": [
       "[('tasty', 0.840283215045929),\n",
       " ('delicious', 0.836420476436615),\n",
       " ('pretty', 0.8193181753158569),\n",
       " ('great', 0.8173674941062927),\n",
       " ('strong', 0.8032594323158264),\n",
       " ('quite', 0.7855674624443054),\n",
       " ('wonderful', 0.7843709588050842),\n",
       " ('very', 0.7778488993644714),\n",
       " ('bad', 0.7762178182601929),\n",
       " ('flavorful', 0.7674366235733032)]"
      ]
     },
     "execution_count": 45,
     "metadata": {},
     "output_type": "execute_result"
    }
   ],
   "source": [
    "w2v_model.wv.most_similar(\"good\")"
   ]
  },
  {
   "cell_type": "code",
   "execution_count": 46,
   "id": "4ec7a2d1",
   "metadata": {},
   "outputs": [
    {
     "data": {
      "text/html": [
       "<div>\n",
       "<style scoped>\n",
       "    .dataframe tbody tr th:only-of-type {\n",
       "        vertical-align: middle;\n",
       "    }\n",
       "\n",
       "    .dataframe tbody tr th {\n",
       "        vertical-align: top;\n",
       "    }\n",
       "\n",
       "    .dataframe thead th {\n",
       "        text-align: right;\n",
       "    }\n",
       "</style>\n",
       "<table border=\"1\" class=\"dataframe\">\n",
       "  <thead>\n",
       "    <tr style=\"text-align: right;\">\n",
       "      <th></th>\n",
       "      <th>Id</th>\n",
       "      <th>ProductId</th>\n",
       "      <th>UserId</th>\n",
       "      <th>ProfileName</th>\n",
       "      <th>HelpfulnessNumerator</th>\n",
       "      <th>HelpfulnessDenominator</th>\n",
       "      <th>Score</th>\n",
       "      <th>Time</th>\n",
       "      <th>Summary</th>\n",
       "      <th>Text</th>\n",
       "      <th>CleanedText</th>\n",
       "    </tr>\n",
       "  </thead>\n",
       "  <tbody>\n",
       "    <tr>\n",
       "      <th>2546</th>\n",
       "      <td>2774</td>\n",
       "      <td>B00002NCJC</td>\n",
       "      <td>A196AJHU9EASJN</td>\n",
       "      <td>Alex Chaffee</td>\n",
       "      <td>0</td>\n",
       "      <td>0</td>\n",
       "      <td>positive</td>\n",
       "      <td>1282953600</td>\n",
       "      <td>thirty bucks?</td>\n",
       "      <td>Why is this $[...] when the same product is av...</td>\n",
       "      <td>b'product avail www amazon com victor trap unr...</td>\n",
       "    </tr>\n",
       "    <tr>\n",
       "      <th>2547</th>\n",
       "      <td>2775</td>\n",
       "      <td>B00002NCJC</td>\n",
       "      <td>A13RRPGE79XFFH</td>\n",
       "      <td>reader48</td>\n",
       "      <td>0</td>\n",
       "      <td>0</td>\n",
       "      <td>positive</td>\n",
       "      <td>1281052800</td>\n",
       "      <td>Flies Begone</td>\n",
       "      <td>We have used the Victor fly bait for 3 seasons...</td>\n",
       "      <td>b'use victor fli bait season beat great product'</td>\n",
       "    </tr>\n",
       "    <tr>\n",
       "      <th>1145</th>\n",
       "      <td>1244</td>\n",
       "      <td>B00002Z754</td>\n",
       "      <td>A3B8RCEI0FXFI6</td>\n",
       "      <td>B G Chase</td>\n",
       "      <td>10</td>\n",
       "      <td>10</td>\n",
       "      <td>positive</td>\n",
       "      <td>962236800</td>\n",
       "      <td>WOW Make your own 'slickers' !</td>\n",
       "      <td>I just received my shipment and could hardly w...</td>\n",
       "      <td>b'receiv shipment could hard wait tri product ...</td>\n",
       "    </tr>\n",
       "    <tr>\n",
       "      <th>1146</th>\n",
       "      <td>1245</td>\n",
       "      <td>B00002Z754</td>\n",
       "      <td>A29Z5PI9BW2PU3</td>\n",
       "      <td>Robbie</td>\n",
       "      <td>7</td>\n",
       "      <td>7</td>\n",
       "      <td>positive</td>\n",
       "      <td>961718400</td>\n",
       "      <td>Great Product</td>\n",
       "      <td>This was a really good idea and the final prod...</td>\n",
       "      <td>b'realli good idea final product outstand use ...</td>\n",
       "    </tr>\n",
       "    <tr>\n",
       "      <th>2942</th>\n",
       "      <td>3204</td>\n",
       "      <td>B000084DVR</td>\n",
       "      <td>A1UGDJP1ZJWVPF</td>\n",
       "      <td>T. Moore \"thoughtful reader\"</td>\n",
       "      <td>1</td>\n",
       "      <td>1</td>\n",
       "      <td>positive</td>\n",
       "      <td>1177977600</td>\n",
       "      <td>Good stuff!</td>\n",
       "      <td>I'm glad my 45lb cocker/standard poodle puppy ...</td>\n",
       "      <td>b'glad cocker standard poodl puppi love stuff ...</td>\n",
       "    </tr>\n",
       "    <tr>\n",
       "      <th>...</th>\n",
       "      <td>...</td>\n",
       "      <td>...</td>\n",
       "      <td>...</td>\n",
       "      <td>...</td>\n",
       "      <td>...</td>\n",
       "      <td>...</td>\n",
       "      <td>...</td>\n",
       "      <td>...</td>\n",
       "      <td>...</td>\n",
       "      <td>...</td>\n",
       "      <td>...</td>\n",
       "    </tr>\n",
       "    <tr>\n",
       "      <th>711</th>\n",
       "      <td>765</td>\n",
       "      <td>B009HINRX8</td>\n",
       "      <td>A1OEL4UZT3KKI4</td>\n",
       "      <td>coffee drinker in PA \"coffee drinker in PA\"</td>\n",
       "      <td>0</td>\n",
       "      <td>0</td>\n",
       "      <td>positive</td>\n",
       "      <td>1344988800</td>\n",
       "      <td>great coffee - terrible price</td>\n",
       "      <td>This is one of the best choices, in my opinion...</td>\n",
       "      <td>b'one best choic opinion also ador amazon need...</td>\n",
       "    </tr>\n",
       "    <tr>\n",
       "      <th>710</th>\n",
       "      <td>764</td>\n",
       "      <td>B009HINRX8</td>\n",
       "      <td>ADDBLG0CFY9AI</td>\n",
       "      <td>S.A.D.</td>\n",
       "      <td>1</td>\n",
       "      <td>1</td>\n",
       "      <td>positive</td>\n",
       "      <td>1326758400</td>\n",
       "      <td>Best of the Tassimo's</td>\n",
       "      <td>We've tried many Tassimo flavors.  This is by ...</td>\n",
       "      <td>b'tri mani tassimo flavor far favorit normal c...</td>\n",
       "    </tr>\n",
       "    <tr>\n",
       "      <th>709</th>\n",
       "      <td>763</td>\n",
       "      <td>B009HINRX8</td>\n",
       "      <td>A3N9477PUE6WMR</td>\n",
       "      <td>patc477</td>\n",
       "      <td>4</td>\n",
       "      <td>4</td>\n",
       "      <td>positive</td>\n",
       "      <td>1323302400</td>\n",
       "      <td>Good Tasting cup o' joe</td>\n",
       "      <td>This is a bold blend that has a great taste. T...</td>\n",
       "      <td>b'bold blend great tast flavor come burst usua...</td>\n",
       "    </tr>\n",
       "    <tr>\n",
       "      <th>713</th>\n",
       "      <td>768</td>\n",
       "      <td>B009HINRX8</td>\n",
       "      <td>A2CAZG1CQ8BQI5</td>\n",
       "      <td>Patricia J. Nohalty</td>\n",
       "      <td>0</td>\n",
       "      <td>0</td>\n",
       "      <td>positive</td>\n",
       "      <td>1337212800</td>\n",
       "      <td>Kona for Tassimo</td>\n",
       "      <td>Of all the coffee's available for Tassimo this...</td>\n",
       "      <td>b'avail tassimo kona richest flavor fantast ar...</td>\n",
       "    </tr>\n",
       "    <tr>\n",
       "      <th>1362</th>\n",
       "      <td>1478</td>\n",
       "      <td>B009UOFU20</td>\n",
       "      <td>AJVB004EB0MVK</td>\n",
       "      <td>D. Christofferson</td>\n",
       "      <td>0</td>\n",
       "      <td>0</td>\n",
       "      <td>negative</td>\n",
       "      <td>1345852800</td>\n",
       "      <td>weak coffee not good for a premium product and...</td>\n",
       "      <td>This coffee supposedly is premium, it tastes w...</td>\n",
       "      <td>b'coffe suppos premium tast thin good mayb old...</td>\n",
       "    </tr>\n",
       "  </tbody>\n",
       "</table>\n",
       "<p>4986 rows × 11 columns</p>\n",
       "</div>"
      ],
      "text/plain": [
       "        Id   ProductId          UserId  \\\n",
       "2546  2774  B00002NCJC  A196AJHU9EASJN   \n",
       "2547  2775  B00002NCJC  A13RRPGE79XFFH   \n",
       "1145  1244  B00002Z754  A3B8RCEI0FXFI6   \n",
       "1146  1245  B00002Z754  A29Z5PI9BW2PU3   \n",
       "2942  3204  B000084DVR  A1UGDJP1ZJWVPF   \n",
       "...    ...         ...             ...   \n",
       "711    765  B009HINRX8  A1OEL4UZT3KKI4   \n",
       "710    764  B009HINRX8   ADDBLG0CFY9AI   \n",
       "709    763  B009HINRX8  A3N9477PUE6WMR   \n",
       "713    768  B009HINRX8  A2CAZG1CQ8BQI5   \n",
       "1362  1478  B009UOFU20   AJVB004EB0MVK   \n",
       "\n",
       "                                      ProfileName  HelpfulnessNumerator  \\\n",
       "2546                                 Alex Chaffee                     0   \n",
       "2547                                     reader48                     0   \n",
       "1145                                    B G Chase                    10   \n",
       "1146                                       Robbie                     7   \n",
       "2942                 T. Moore \"thoughtful reader\"                     1   \n",
       "...                                           ...                   ...   \n",
       "711   coffee drinker in PA \"coffee drinker in PA\"                     0   \n",
       "710                                        S.A.D.                     1   \n",
       "709                                       patc477                     4   \n",
       "713                           Patricia J. Nohalty                     0   \n",
       "1362                            D. Christofferson                     0   \n",
       "\n",
       "      HelpfulnessDenominator     Score        Time  \\\n",
       "2546                       0  positive  1282953600   \n",
       "2547                       0  positive  1281052800   \n",
       "1145                      10  positive   962236800   \n",
       "1146                       7  positive   961718400   \n",
       "2942                       1  positive  1177977600   \n",
       "...                      ...       ...         ...   \n",
       "711                        0  positive  1344988800   \n",
       "710                        1  positive  1326758400   \n",
       "709                        4  positive  1323302400   \n",
       "713                        0  positive  1337212800   \n",
       "1362                       0  negative  1345852800   \n",
       "\n",
       "                                                Summary  \\\n",
       "2546                                      thirty bucks?   \n",
       "2547                                       Flies Begone   \n",
       "1145                     WOW Make your own 'slickers' !   \n",
       "1146                                      Great Product   \n",
       "2942                                        Good stuff!   \n",
       "...                                                 ...   \n",
       "711                       great coffee - terrible price   \n",
       "710                               Best of the Tassimo's   \n",
       "709                             Good Tasting cup o' joe   \n",
       "713                                    Kona for Tassimo   \n",
       "1362  weak coffee not good for a premium product and...   \n",
       "\n",
       "                                                   Text  \\\n",
       "2546  Why is this $[...] when the same product is av...   \n",
       "2547  We have used the Victor fly bait for 3 seasons...   \n",
       "1145  I just received my shipment and could hardly w...   \n",
       "1146  This was a really good idea and the final prod...   \n",
       "2942  I'm glad my 45lb cocker/standard poodle puppy ...   \n",
       "...                                                 ...   \n",
       "711   This is one of the best choices, in my opinion...   \n",
       "710   We've tried many Tassimo flavors.  This is by ...   \n",
       "709   This is a bold blend that has a great taste. T...   \n",
       "713   Of all the coffee's available for Tassimo this...   \n",
       "1362  This coffee supposedly is premium, it tastes w...   \n",
       "\n",
       "                                            CleanedText  \n",
       "2546  b'product avail www amazon com victor trap unr...  \n",
       "2547   b'use victor fli bait season beat great product'  \n",
       "1145  b'receiv shipment could hard wait tri product ...  \n",
       "1146  b'realli good idea final product outstand use ...  \n",
       "2942  b'glad cocker standard poodl puppi love stuff ...  \n",
       "...                                                 ...  \n",
       "711   b'one best choic opinion also ador amazon need...  \n",
       "710   b'tri mani tassimo flavor far favorit normal c...  \n",
       "709   b'bold blend great tast flavor come burst usua...  \n",
       "713   b'avail tassimo kona richest flavor fantast ar...  \n",
       "1362  b'coffe suppos premium tast thin good mayb old...  \n",
       "\n",
       "[4986 rows x 11 columns]"
      ]
     },
     "execution_count": 46,
     "metadata": {},
     "output_type": "execute_result"
    }
   ],
   "source": [
    "final\n"
   ]
  },
  {
   "cell_type": "code",
   "execution_count": 47,
   "id": "4ef2c604",
   "metadata": {},
   "outputs": [
    {
     "data": {
      "text/html": [
       "<div>\n",
       "<style scoped>\n",
       "    .dataframe tbody tr th:only-of-type {\n",
       "        vertical-align: middle;\n",
       "    }\n",
       "\n",
       "    .dataframe tbody tr th {\n",
       "        vertical-align: top;\n",
       "    }\n",
       "\n",
       "    .dataframe thead th {\n",
       "        text-align: right;\n",
       "    }\n",
       "</style>\n",
       "<table border=\"1\" class=\"dataframe\">\n",
       "  <thead>\n",
       "    <tr style=\"text-align: right;\">\n",
       "      <th></th>\n",
       "      <th>Id</th>\n",
       "      <th>ProductId</th>\n",
       "      <th>UserId</th>\n",
       "      <th>ProfileName</th>\n",
       "      <th>HelpfulnessNumerator</th>\n",
       "      <th>HelpfulnessDenominator</th>\n",
       "      <th>Score</th>\n",
       "      <th>Time</th>\n",
       "      <th>Summary</th>\n",
       "      <th>Text</th>\n",
       "      <th>CleanedText</th>\n",
       "    </tr>\n",
       "  </thead>\n",
       "  <tbody>\n",
       "    <tr>\n",
       "      <th>2546</th>\n",
       "      <td>2774</td>\n",
       "      <td>B00002NCJC</td>\n",
       "      <td>A196AJHU9EASJN</td>\n",
       "      <td>Alex Chaffee</td>\n",
       "      <td>0</td>\n",
       "      <td>0</td>\n",
       "      <td>positive</td>\n",
       "      <td>1282953600</td>\n",
       "      <td>thirty bucks?</td>\n",
       "      <td>Why is this $[...] when the same product is av...</td>\n",
       "      <td>b'product avail www amazon com victor trap unr...</td>\n",
       "    </tr>\n",
       "    <tr>\n",
       "      <th>2547</th>\n",
       "      <td>2775</td>\n",
       "      <td>B00002NCJC</td>\n",
       "      <td>A13RRPGE79XFFH</td>\n",
       "      <td>reader48</td>\n",
       "      <td>0</td>\n",
       "      <td>0</td>\n",
       "      <td>positive</td>\n",
       "      <td>1281052800</td>\n",
       "      <td>Flies Begone</td>\n",
       "      <td>We have used the Victor fly bait for 3 seasons...</td>\n",
       "      <td>b'use victor fli bait season beat great product'</td>\n",
       "    </tr>\n",
       "    <tr>\n",
       "      <th>1145</th>\n",
       "      <td>1244</td>\n",
       "      <td>B00002Z754</td>\n",
       "      <td>A3B8RCEI0FXFI6</td>\n",
       "      <td>B G Chase</td>\n",
       "      <td>10</td>\n",
       "      <td>10</td>\n",
       "      <td>positive</td>\n",
       "      <td>962236800</td>\n",
       "      <td>WOW Make your own 'slickers' !</td>\n",
       "      <td>I just received my shipment and could hardly w...</td>\n",
       "      <td>b'receiv shipment could hard wait tri product ...</td>\n",
       "    </tr>\n",
       "    <tr>\n",
       "      <th>1146</th>\n",
       "      <td>1245</td>\n",
       "      <td>B00002Z754</td>\n",
       "      <td>A29Z5PI9BW2PU3</td>\n",
       "      <td>Robbie</td>\n",
       "      <td>7</td>\n",
       "      <td>7</td>\n",
       "      <td>positive</td>\n",
       "      <td>961718400</td>\n",
       "      <td>Great Product</td>\n",
       "      <td>This was a really good idea and the final prod...</td>\n",
       "      <td>b'realli good idea final product outstand use ...</td>\n",
       "    </tr>\n",
       "    <tr>\n",
       "      <th>2942</th>\n",
       "      <td>3204</td>\n",
       "      <td>B000084DVR</td>\n",
       "      <td>A1UGDJP1ZJWVPF</td>\n",
       "      <td>T. Moore \"thoughtful reader\"</td>\n",
       "      <td>1</td>\n",
       "      <td>1</td>\n",
       "      <td>positive</td>\n",
       "      <td>1177977600</td>\n",
       "      <td>Good stuff!</td>\n",
       "      <td>I'm glad my 45lb cocker/standard poodle puppy ...</td>\n",
       "      <td>b'glad cocker standard poodl puppi love stuff ...</td>\n",
       "    </tr>\n",
       "  </tbody>\n",
       "</table>\n",
       "</div>"
      ],
      "text/plain": [
       "        Id   ProductId          UserId                   ProfileName  \\\n",
       "2546  2774  B00002NCJC  A196AJHU9EASJN                  Alex Chaffee   \n",
       "2547  2775  B00002NCJC  A13RRPGE79XFFH                      reader48   \n",
       "1145  1244  B00002Z754  A3B8RCEI0FXFI6                     B G Chase   \n",
       "1146  1245  B00002Z754  A29Z5PI9BW2PU3                        Robbie   \n",
       "2942  3204  B000084DVR  A1UGDJP1ZJWVPF  T. Moore \"thoughtful reader\"   \n",
       "\n",
       "      HelpfulnessNumerator  HelpfulnessDenominator     Score        Time  \\\n",
       "2546                     0                       0  positive  1282953600   \n",
       "2547                     0                       0  positive  1281052800   \n",
       "1145                    10                      10  positive   962236800   \n",
       "1146                     7                       7  positive   961718400   \n",
       "2942                     1                       1  positive  1177977600   \n",
       "\n",
       "                             Summary  \\\n",
       "2546                   thirty bucks?   \n",
       "2547                    Flies Begone   \n",
       "1145  WOW Make your own 'slickers' !   \n",
       "1146                   Great Product   \n",
       "2942                     Good stuff!   \n",
       "\n",
       "                                                   Text  \\\n",
       "2546  Why is this $[...] when the same product is av...   \n",
       "2547  We have used the Victor fly bait for 3 seasons...   \n",
       "1145  I just received my shipment and could hardly w...   \n",
       "1146  This was a really good idea and the final prod...   \n",
       "2942  I'm glad my 45lb cocker/standard poodle puppy ...   \n",
       "\n",
       "                                            CleanedText  \n",
       "2546  b'product avail www amazon com victor trap unr...  \n",
       "2547   b'use victor fli bait season beat great product'  \n",
       "1145  b'receiv shipment could hard wait tri product ...  \n",
       "1146  b'realli good idea final product outstand use ...  \n",
       "2942  b'glad cocker standard poodl puppi love stuff ...  "
      ]
     },
     "execution_count": 47,
     "metadata": {},
     "output_type": "execute_result"
    }
   ],
   "source": [
    "f1=final\n",
    "f1.head()"
   ]
  },
  {
   "cell_type": "code",
   "execution_count": 48,
   "id": "8a58d6ae",
   "metadata": {},
   "outputs": [],
   "source": [
    "del f1[\"Text\"]"
   ]
  },
  {
   "cell_type": "code",
   "execution_count": 49,
   "id": "c391c0c9",
   "metadata": {},
   "outputs": [],
   "source": [
    "del f1[\"Summary\"]"
   ]
  },
  {
   "cell_type": "code",
   "execution_count": 50,
   "id": "75202fbd",
   "metadata": {},
   "outputs": [
    {
     "data": {
      "text/html": [
       "<div>\n",
       "<style scoped>\n",
       "    .dataframe tbody tr th:only-of-type {\n",
       "        vertical-align: middle;\n",
       "    }\n",
       "\n",
       "    .dataframe tbody tr th {\n",
       "        vertical-align: top;\n",
       "    }\n",
       "\n",
       "    .dataframe thead th {\n",
       "        text-align: right;\n",
       "    }\n",
       "</style>\n",
       "<table border=\"1\" class=\"dataframe\">\n",
       "  <thead>\n",
       "    <tr style=\"text-align: right;\">\n",
       "      <th></th>\n",
       "      <th>Id</th>\n",
       "      <th>ProductId</th>\n",
       "      <th>UserId</th>\n",
       "      <th>ProfileName</th>\n",
       "      <th>HelpfulnessNumerator</th>\n",
       "      <th>HelpfulnessDenominator</th>\n",
       "      <th>Score</th>\n",
       "      <th>Time</th>\n",
       "      <th>CleanedText</th>\n",
       "    </tr>\n",
       "  </thead>\n",
       "  <tbody>\n",
       "    <tr>\n",
       "      <th>2546</th>\n",
       "      <td>2774</td>\n",
       "      <td>B00002NCJC</td>\n",
       "      <td>A196AJHU9EASJN</td>\n",
       "      <td>Alex Chaffee</td>\n",
       "      <td>0</td>\n",
       "      <td>0</td>\n",
       "      <td>positive</td>\n",
       "      <td>1282953600</td>\n",
       "      <td>b'product avail www amazon com victor trap unr...</td>\n",
       "    </tr>\n",
       "    <tr>\n",
       "      <th>2547</th>\n",
       "      <td>2775</td>\n",
       "      <td>B00002NCJC</td>\n",
       "      <td>A13RRPGE79XFFH</td>\n",
       "      <td>reader48</td>\n",
       "      <td>0</td>\n",
       "      <td>0</td>\n",
       "      <td>positive</td>\n",
       "      <td>1281052800</td>\n",
       "      <td>b'use victor fli bait season beat great product'</td>\n",
       "    </tr>\n",
       "    <tr>\n",
       "      <th>1145</th>\n",
       "      <td>1244</td>\n",
       "      <td>B00002Z754</td>\n",
       "      <td>A3B8RCEI0FXFI6</td>\n",
       "      <td>B G Chase</td>\n",
       "      <td>10</td>\n",
       "      <td>10</td>\n",
       "      <td>positive</td>\n",
       "      <td>962236800</td>\n",
       "      <td>b'receiv shipment could hard wait tri product ...</td>\n",
       "    </tr>\n",
       "    <tr>\n",
       "      <th>1146</th>\n",
       "      <td>1245</td>\n",
       "      <td>B00002Z754</td>\n",
       "      <td>A29Z5PI9BW2PU3</td>\n",
       "      <td>Robbie</td>\n",
       "      <td>7</td>\n",
       "      <td>7</td>\n",
       "      <td>positive</td>\n",
       "      <td>961718400</td>\n",
       "      <td>b'realli good idea final product outstand use ...</td>\n",
       "    </tr>\n",
       "    <tr>\n",
       "      <th>2942</th>\n",
       "      <td>3204</td>\n",
       "      <td>B000084DVR</td>\n",
       "      <td>A1UGDJP1ZJWVPF</td>\n",
       "      <td>T. Moore \"thoughtful reader\"</td>\n",
       "      <td>1</td>\n",
       "      <td>1</td>\n",
       "      <td>positive</td>\n",
       "      <td>1177977600</td>\n",
       "      <td>b'glad cocker standard poodl puppi love stuff ...</td>\n",
       "    </tr>\n",
       "  </tbody>\n",
       "</table>\n",
       "</div>"
      ],
      "text/plain": [
       "        Id   ProductId          UserId                   ProfileName  \\\n",
       "2546  2774  B00002NCJC  A196AJHU9EASJN                  Alex Chaffee   \n",
       "2547  2775  B00002NCJC  A13RRPGE79XFFH                      reader48   \n",
       "1145  1244  B00002Z754  A3B8RCEI0FXFI6                     B G Chase   \n",
       "1146  1245  B00002Z754  A29Z5PI9BW2PU3                        Robbie   \n",
       "2942  3204  B000084DVR  A1UGDJP1ZJWVPF  T. Moore \"thoughtful reader\"   \n",
       "\n",
       "      HelpfulnessNumerator  HelpfulnessDenominator     Score        Time  \\\n",
       "2546                     0                       0  positive  1282953600   \n",
       "2547                     0                       0  positive  1281052800   \n",
       "1145                    10                      10  positive   962236800   \n",
       "1146                     7                       7  positive   961718400   \n",
       "2942                     1                       1  positive  1177977600   \n",
       "\n",
       "                                            CleanedText  \n",
       "2546  b'product avail www amazon com victor trap unr...  \n",
       "2547   b'use victor fli bait season beat great product'  \n",
       "1145  b'receiv shipment could hard wait tri product ...  \n",
       "1146  b'realli good idea final product outstand use ...  \n",
       "2942  b'glad cocker standard poodl puppi love stuff ...  "
      ]
     },
     "execution_count": 50,
     "metadata": {},
     "output_type": "execute_result"
    }
   ],
   "source": [
    "f1.head()"
   ]
  },
  {
   "cell_type": "code",
   "execution_count": 51,
   "id": "c3d7b794",
   "metadata": {},
   "outputs": [],
   "source": [
    "f1=final[[\"Id\",\"ProductId\",\"UserId\",\"ProfileName\",\"HelpfulnessNumerator\",\"HelpfulnessDenominator\",\"Time\",\"CleanedText\",\"Score\"]]"
   ]
  },
  {
   "cell_type": "code",
   "execution_count": 52,
   "id": "861bea14",
   "metadata": {},
   "outputs": [
    {
     "data": {
      "text/html": [
       "<div>\n",
       "<style scoped>\n",
       "    .dataframe tbody tr th:only-of-type {\n",
       "        vertical-align: middle;\n",
       "    }\n",
       "\n",
       "    .dataframe tbody tr th {\n",
       "        vertical-align: top;\n",
       "    }\n",
       "\n",
       "    .dataframe thead th {\n",
       "        text-align: right;\n",
       "    }\n",
       "</style>\n",
       "<table border=\"1\" class=\"dataframe\">\n",
       "  <thead>\n",
       "    <tr style=\"text-align: right;\">\n",
       "      <th></th>\n",
       "      <th>Id</th>\n",
       "      <th>ProductId</th>\n",
       "      <th>UserId</th>\n",
       "      <th>ProfileName</th>\n",
       "      <th>HelpfulnessNumerator</th>\n",
       "      <th>HelpfulnessDenominator</th>\n",
       "      <th>Time</th>\n",
       "      <th>CleanedText</th>\n",
       "      <th>Score</th>\n",
       "    </tr>\n",
       "  </thead>\n",
       "  <tbody>\n",
       "    <tr>\n",
       "      <th>2546</th>\n",
       "      <td>2774</td>\n",
       "      <td>B00002NCJC</td>\n",
       "      <td>A196AJHU9EASJN</td>\n",
       "      <td>Alex Chaffee</td>\n",
       "      <td>0</td>\n",
       "      <td>0</td>\n",
       "      <td>1282953600</td>\n",
       "      <td>b'product avail www amazon com victor trap unr...</td>\n",
       "      <td>positive</td>\n",
       "    </tr>\n",
       "    <tr>\n",
       "      <th>2547</th>\n",
       "      <td>2775</td>\n",
       "      <td>B00002NCJC</td>\n",
       "      <td>A13RRPGE79XFFH</td>\n",
       "      <td>reader48</td>\n",
       "      <td>0</td>\n",
       "      <td>0</td>\n",
       "      <td>1281052800</td>\n",
       "      <td>b'use victor fli bait season beat great product'</td>\n",
       "      <td>positive</td>\n",
       "    </tr>\n",
       "    <tr>\n",
       "      <th>1145</th>\n",
       "      <td>1244</td>\n",
       "      <td>B00002Z754</td>\n",
       "      <td>A3B8RCEI0FXFI6</td>\n",
       "      <td>B G Chase</td>\n",
       "      <td>10</td>\n",
       "      <td>10</td>\n",
       "      <td>962236800</td>\n",
       "      <td>b'receiv shipment could hard wait tri product ...</td>\n",
       "      <td>positive</td>\n",
       "    </tr>\n",
       "    <tr>\n",
       "      <th>1146</th>\n",
       "      <td>1245</td>\n",
       "      <td>B00002Z754</td>\n",
       "      <td>A29Z5PI9BW2PU3</td>\n",
       "      <td>Robbie</td>\n",
       "      <td>7</td>\n",
       "      <td>7</td>\n",
       "      <td>961718400</td>\n",
       "      <td>b'realli good idea final product outstand use ...</td>\n",
       "      <td>positive</td>\n",
       "    </tr>\n",
       "    <tr>\n",
       "      <th>2942</th>\n",
       "      <td>3204</td>\n",
       "      <td>B000084DVR</td>\n",
       "      <td>A1UGDJP1ZJWVPF</td>\n",
       "      <td>T. Moore \"thoughtful reader\"</td>\n",
       "      <td>1</td>\n",
       "      <td>1</td>\n",
       "      <td>1177977600</td>\n",
       "      <td>b'glad cocker standard poodl puppi love stuff ...</td>\n",
       "      <td>positive</td>\n",
       "    </tr>\n",
       "  </tbody>\n",
       "</table>\n",
       "</div>"
      ],
      "text/plain": [
       "        Id   ProductId          UserId                   ProfileName  \\\n",
       "2546  2774  B00002NCJC  A196AJHU9EASJN                  Alex Chaffee   \n",
       "2547  2775  B00002NCJC  A13RRPGE79XFFH                      reader48   \n",
       "1145  1244  B00002Z754  A3B8RCEI0FXFI6                     B G Chase   \n",
       "1146  1245  B00002Z754  A29Z5PI9BW2PU3                        Robbie   \n",
       "2942  3204  B000084DVR  A1UGDJP1ZJWVPF  T. Moore \"thoughtful reader\"   \n",
       "\n",
       "      HelpfulnessNumerator  HelpfulnessDenominator        Time  \\\n",
       "2546                     0                       0  1282953600   \n",
       "2547                     0                       0  1281052800   \n",
       "1145                    10                      10   962236800   \n",
       "1146                     7                       7   961718400   \n",
       "2942                     1                       1  1177977600   \n",
       "\n",
       "                                            CleanedText     Score  \n",
       "2546  b'product avail www amazon com victor trap unr...  positive  \n",
       "2547   b'use victor fli bait season beat great product'  positive  \n",
       "1145  b'receiv shipment could hard wait tri product ...  positive  \n",
       "1146  b'realli good idea final product outstand use ...  positive  \n",
       "2942  b'glad cocker standard poodl puppi love stuff ...  positive  "
      ]
     },
     "execution_count": 52,
     "metadata": {},
     "output_type": "execute_result"
    }
   ],
   "source": [
    "f1.head()"
   ]
  },
  {
   "cell_type": "code",
   "execution_count": 53,
   "id": "3ffa62da",
   "metadata": {},
   "outputs": [],
   "source": [
    "x=f1.iloc[:,-2].values"
   ]
  },
  {
   "cell_type": "code",
   "execution_count": 54,
   "id": "af781032",
   "metadata": {},
   "outputs": [
    {
     "name": "stdout",
     "output_type": "stream",
     "text": [
      "[b'product avail www amazon com victor trap unreal cours total fli genocid pretti stinki right nearbi'\n",
      " b'use victor fli bait season beat great product'\n",
      " b'receiv shipment could hard wait tri product love call instead sticker remov easili daughter design sign print revers use car window print beauti print program go lot fun product window everywher surfac like screen comput monitor'\n",
      " ...\n",
      " b'bold blend great tast flavor come burst usual brew drink organ sumatra mandel use blend exclus get cup rival complex flavor tassimo brewer fantast come amazon add subscript servic'\n",
      " b'avail tassimo kona richest flavor fantast aroma far favorit'\n",
      " b'coffe suppos premium tast thin good mayb old sure wast use line bottom sit shoe trash can luggag absorb smell use drink buy']\n"
     ]
    }
   ],
   "source": [
    "\n",
    "print(x)"
   ]
  },
  {
   "cell_type": "code",
   "execution_count": 55,
   "id": "44033a37",
   "metadata": {},
   "outputs": [
    {
     "data": {
      "text/plain": [
       "array(['positive', 'positive', 'positive', ..., 'positive', 'positive',\n",
       "       'negative'], dtype=object)"
      ]
     },
     "execution_count": 55,
     "metadata": {},
     "output_type": "execute_result"
    }
   ],
   "source": [
    "y=f1.iloc[:,-1].values\n",
    "y"
   ]
  },
  {
   "cell_type": "code",
   "execution_count": 56,
   "id": "ea190246",
   "metadata": {},
   "outputs": [
    {
     "name": "stdout",
     "output_type": "stream",
     "text": [
      "[1 1 1 ... 1 1 0]\n"
     ]
    }
   ],
   "source": [
    "#Converting the Target variable into class of 0's and 1's\n",
    "from sklearn.preprocessing import LabelEncoder\n",
    "le=LabelEncoder()\n",
    "y=le.fit_transform(y)\n",
    "print(y)"
   ]
  },
  {
   "cell_type": "code",
   "execution_count": 57,
   "id": "cb6d014a",
   "metadata": {
    "scrolled": true
   },
   "outputs": [
    {
     "name": "stdout",
     "output_type": "stream",
     "text": [
      "<class 'scipy.sparse.csr.csr_matrix'>\n"
     ]
    }
   ],
   "source": [
    "x=tf_idf_vect.fit_transform(x)\n",
    "print(type(x))"
   ]
  },
  {
   "cell_type": "code",
   "execution_count": 58,
   "id": "6db9f2a9",
   "metadata": {},
   "outputs": [],
   "source": [
    "#Training and Testing the data\n",
    "from sklearn.model_selection import train_test_split\n",
    "x_train,x_test,y_train,y_test=train_test_split(x,y,test_size=0.25)"
   ]
  },
  {
   "cell_type": "code",
   "execution_count": 59,
   "id": "53281dda",
   "metadata": {},
   "outputs": [
    {
     "data": {
      "text/plain": [
       "LogisticRegression()"
      ]
     },
     "execution_count": 59,
     "metadata": {},
     "output_type": "execute_result"
    }
   ],
   "source": [
    "#Using Classification Technique for Classifying the text\n",
    "from sklearn.linear_model import LogisticRegression\n",
    "lr=LogisticRegression(solver=\"lbfgs\")\n",
    "lr.fit(x_train,y_train)"
   ]
  },
  {
   "cell_type": "code",
   "execution_count": 60,
   "id": "7e6aa627",
   "metadata": {},
   "outputs": [],
   "source": [
    "y_pred=lr.predict(x_train)"
   ]
  },
  {
   "cell_type": "code",
   "execution_count": 61,
   "id": "6726cc08",
   "metadata": {},
   "outputs": [
    {
     "name": "stdout",
     "output_type": "stream",
     "text": [
      "0.8462155656592671\n"
     ]
    }
   ],
   "source": [
    "from sklearn.metrics import accuracy_score\n",
    "print(accuracy_score(y_pred,y_train))"
   ]
  },
  {
   "cell_type": "code",
   "execution_count": 62,
   "id": "a03aec3b",
   "metadata": {},
   "outputs": [],
   "source": [
    "y1_pred=lr.predict(x_test)"
   ]
  },
  {
   "cell_type": "code",
   "execution_count": 63,
   "id": "e4050fc7",
   "metadata": {},
   "outputs": [
    {
     "name": "stdout",
     "output_type": "stream",
     "text": [
      "0.8404170008019246\n"
     ]
    }
   ],
   "source": [
    "print(accuracy_score(y1_pred,y_test))"
   ]
  },
  {
   "cell_type": "code",
   "execution_count": null,
   "id": "b2bf4dee",
   "metadata": {},
   "outputs": [],
   "source": []
  },
  {
   "cell_type": "code",
   "execution_count": null,
   "id": "a809c0fb",
   "metadata": {},
   "outputs": [],
   "source": []
  },
  {
   "cell_type": "code",
   "execution_count": null,
   "id": "252218a6",
   "metadata": {},
   "outputs": [],
   "source": []
  }
 ],
 "metadata": {
  "kernelspec": {
   "display_name": "Python 3 (ipykernel)",
   "language": "python",
   "name": "python3"
  },
  "language_info": {
   "codemirror_mode": {
    "name": "ipython",
    "version": 3
   },
   "file_extension": ".py",
   "mimetype": "text/x-python",
   "name": "python",
   "nbconvert_exporter": "python",
   "pygments_lexer": "ipython3",
   "version": "3.7.2"
  }
 },
 "nbformat": 4,
 "nbformat_minor": 5
}
